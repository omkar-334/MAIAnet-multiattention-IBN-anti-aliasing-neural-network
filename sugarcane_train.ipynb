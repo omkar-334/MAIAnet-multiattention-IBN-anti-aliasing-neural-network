{
 "cells": [
  {
   "cell_type": "code",
   "execution_count": 4,
   "id": "6ea79405-3e58-4040-9d4b-79697654f227",
   "metadata": {},
   "outputs": [],
   "source": [
    "!pip install torch pandas torchvision scikit-learn tqdm kaggle -q"
   ]
  },
  {
   "cell_type": "code",
   "execution_count": 2,
   "id": "78d482ea-0e22-4b07-a205-1d259fb90a5c",
   "metadata": {},
   "outputs": [],
   "source": [
    "!mkdir -p ~/.kaggle\n",
    "!mv kaggle.json ~/.kaggle/\n",
    "!chmod 600 ~/.kaggle/kaggle.json"
   ]
  },
  {
   "cell_type": "code",
   "execution_count": 5,
   "id": "b990dab2-2199-4cc7-b547-bd3ad9a34014",
   "metadata": {},
   "outputs": [
    {
     "name": "stdout",
     "output_type": "stream",
     "text": [
      "Downloading cassava-leaf-disease-classification.zip to /home/ubuntu\n",
      "100%|██████████████████████████████████████▉| 5.76G/5.76G [00:40<00:00, 230MB/s]\n",
      "100%|███████████████████████████████████████| 5.76G/5.76G [00:40<00:00, 153MB/s]\n"
     ]
    }
   ],
   "source": [
    "!kaggle datasets download nirmalsankalana/sugarcane-leaf-disease-dataset\n",
    "!unzip -q sugarcane-leaf-disease-dataset.zip -d data"
   ]
  },
  {
   "cell_type": "code",
   "execution_count": 3,
   "id": "6620ca06-f014-4cdb-a636-0f1de07297b8",
   "metadata": {},
   "outputs": [],
   "source": [
    "import os\n",
    "import shutil\n",
    "import pandas as pd\n",
    "\n",
    "# Define paths\n",
    "data_root = \"data\"\n",
    "images_dir = os.path.join(data_root, \"images\")\n",
    "\n",
    "# Create images directory if it doesn't exist\n",
    "os.makedirs(images_dir, exist_ok=True)\n",
    "\n",
    "# List to store image paths and labels\n",
    "dataset = []\n",
    "\n",
    "# Loop through each subfolder\n",
    "for subfolder in os.listdir(data_root):\n",
    "    subfolder_path = os.path.join(data_root, subfolder)\n",
    "    \n",
    "    # Ensure it's a directory\n",
    "    if os.path.isdir(subfolder_path) and subfolder != \"images\":\n",
    "        # Loop through images inside the subfolder\n",
    "        for image in os.listdir(subfolder_path):\n",
    "            old_image_path = os.path.join(subfolder_path, image)\n",
    "            \n",
    "            # Ensure it's a file (image)\n",
    "            if os.path.isfile(old_image_path):\n",
    "                # Define new image path in \"data/images\" directory\n",
    "                new_image_path = os.path.join(images_dir, image)\n",
    "                \n",
    "                # If filename already exists, rename it to avoid conflicts\n",
    "                if os.path.exists(new_image_path):\n",
    "                    base, ext = os.path.splitext(image)\n",
    "                    counter = 1\n",
    "                    while os.path.exists(new_image_path):\n",
    "                        new_image_path = os.path.join(images_dir, f\"{base}_{counter}{ext}\")\n",
    "                        counter += 1\n",
    "                \n",
    "                # Move image\n",
    "                shutil.move(old_image_path, new_image_path)\n",
    "\n",
    "                # Append to dataset with updated path and original label\n",
    "                dataset.append({\"image_path\": new_image_path, \"label\": subfolder})\n",
    "\n",
    "        # Optionally remove empty subfolder after moving images\n",
    "        os.rmdir(subfolder_path)\n",
    "\n",
    "df = pd.DataFrame(dataset)\n",
    "df = df.rename(columns={'image_path':'image_id'})\n",
    "df[\"image_id\"] = df[\"image_id\"].str.replace(\"data/images/\", \"\", regex=False)\n",
    "\n",
    "from sklearn.preprocessing import LabelEncoder\n",
    "\n",
    "label_encoder = LabelEncoder()\n",
    "df[\"label\"] = label_encoder.fit_transform(df[\"label\"])\n",
    "\n",
    "df.to_csv(os.path.join(data_root, \"dataset.csv\"), index=False)\n",
    "\n",
    "label_mapping = dict(zip(label_encoder.classes_, label_encoder.transform(label_encoder.classes_)))"
   ]
  },
  {
   "cell_type": "code",
   "execution_count": null,
   "id": "b1282e13-654a-4974-b4b9-3cf848b99bc1",
   "metadata": {},
   "outputs": [],
   "source": [
    "import os\n",
    "\n",
    "import pandas as pd\n",
    "import torch\n",
    "from PIL import Image\n",
    "from sklearn.model_selection import train_test_split\n",
    "from torch.utils.data import DataLoader, Dataset\n",
    "from torchvision import transforms\n",
    "\n",
    "device = torch.device(\"cuda\" if torch.cuda.is_available() else \"cpu\")\n",
    "\n",
    "\n",
    "# df = pd.read_csv(\"train.csv\")\n",
    "# df = pd.read_csv(\"cassava_data/train.csv\")\n",
    "\n",
    "# print(df.label.value_counts())\n",
    "# balanced_df = pd.DataFrame()\n",
    "\n",
    "# for label in df[\"label\"].unique():\n",
    "#     label_df = df[df[\"label\"] == label]\n",
    "#     if len(label_df) > 1000:\n",
    "#         _, sampled_df = train_test_split(label_df, test_size=500, random_state=42, stratify=label_df[\"label\"])\n",
    "#     balanced_df = pd.concat([balanced_df, sampled_df])\n",
    "\n"
   ]
  },
  {
   "cell_type": "code",
   "execution_count": null,
   "id": "b2ba8c31-2cf8-4315-a109-bb206a542f04",
   "metadata": {},
   "outputs": [],
   "source": [
    "train_df, temp_df = train_test_split(df, test_size=0.2, random_state=42, stratify=df[\"label\"])\n",
    "val_df, test_df = train_test_split(temp_df, test_size=0.5, random_state=42, stratify=temp_df[\"label\"])\n",
    "\n",
    "\n",
    "train_dataset = Dataset(train_df)\n",
    "test_dataset = Dataset(test_df)\n",
    "val_dataset = Dataset(val_df)\n",
    "\n",
    "train_loader = DataLoader(train_dataset, batch_size=32, shuffle=True)\n",
    "test_loader = DataLoader(test_dataset, batch_size=32, shuffle=False)\n",
    "val_loader = DataLoader(val_dataset, batch_size=32, shuffle=False)\n",
    "\n",
    "# just change batch size to 12 and check\n",
    "# 7 fold cross validation"
   ]
  },
  {
   "cell_type": "code",
   "execution_count": null,
   "id": "4477227e-0b6d-4593-bbc3-da028ad14f00",
   "metadata": {},
   "outputs": [],
   "source": [
    "trainer = Trainer(model, train_loader, test_loader, val_loader, 1e-4, 40)\n",
    "# 35 epochs - change\n",
    "# gridsearch - apply on LR, weight decay and momentum"
   ]
  },
  {
   "cell_type": "code",
   "execution_count": null,
   "id": "31a9b82e-c7f5-4a31-9205-9f4e361e7dd8",
   "metadata": {},
   "outputs": [
    {
     "name": "stderr",
     "output_type": "stream",
     "text": [
      "/tmp/ipykernel_5725/532439418.py:53: FutureWarning: `torch.cuda.amp.autocast(args...)` is deprecated. Please use `torch.amp.autocast('cuda', args...)` instead.\n",
      "  with amp.autocast():\n",
      "Epoch 1/40: 100%|██████████| 63/63 [01:25<00:00,  1.36s/it, loss=1.6206]\n",
      "/tmp/ipykernel_5725/532439418.py:87: FutureWarning: `torch.cuda.amp.autocast(args...)` is deprecated. Please use `torch.amp.autocast('cuda', args...)` instead.\n",
      "  with amp.autocast():\n"
     ]
    },
    {
     "name": "stdout",
     "output_type": "stream",
     "text": [
      "\n",
      "Epoch 1: Train Loss = 1.6118 | Val Loss = 1.6081\n",
      "\n",
      "Validation Metrics:\n",
      "--------------------------------------------------\n",
      "Accuracy: 0.2055\n",
      "Precision: 0.0422\n",
      "Recall: 0.2055\n",
      "F1: 0.0701\n",
      "--------------------------------------------------\n",
      "GPU Memory allocated: 2.62 GB\n"
     ]
    },
    {
     "name": "stderr",
     "output_type": "stream",
     "text": [
      "Epoch 2/40: 100%|██████████| 63/63 [01:16<00:00,  1.21s/it, loss=1.6312]\n"
     ]
    },
    {
     "name": "stdout",
     "output_type": "stream",
     "text": [
      "\n",
      "Epoch 2: Train Loss = 1.6081 | Val Loss = 1.6062\n",
      "\n",
      "Validation Metrics:\n",
      "--------------------------------------------------\n",
      "Accuracy: 0.2095\n",
      "Precision: 0.2400\n",
      "Recall: 0.2095\n",
      "F1: 0.0781\n",
      "--------------------------------------------------\n",
      "GPU Memory allocated: 2.62 GB\n"
     ]
    },
    {
     "name": "stderr",
     "output_type": "stream",
     "text": [
      "Epoch 3/40: 100%|██████████| 63/63 [01:16<00:00,  1.21s/it, loss=1.5919]\n"
     ]
    },
    {
     "name": "stdout",
     "output_type": "stream",
     "text": [
      "\n",
      "Epoch 3: Train Loss = 1.6066 | Val Loss = 1.6049\n",
      "\n",
      "Validation Metrics:\n",
      "--------------------------------------------------\n",
      "Accuracy: 0.2055\n",
      "Precision: 0.0422\n",
      "Recall: 0.2055\n",
      "F1: 0.0701\n",
      "--------------------------------------------------\n",
      "GPU Memory allocated: 2.62 GB\n"
     ]
    },
    {
     "name": "stderr",
     "output_type": "stream",
     "text": [
      "Epoch 4/40: 100%|██████████| 63/63 [01:16<00:00,  1.21s/it, loss=1.6083]\n"
     ]
    },
    {
     "name": "stdout",
     "output_type": "stream",
     "text": [
      "\n",
      "Epoch 4: Train Loss = 1.6069 | Val Loss = 1.6035\n",
      "\n",
      "Validation Metrics:\n",
      "--------------------------------------------------\n",
      "Accuracy: 0.2055\n",
      "Precision: 0.0422\n",
      "Recall: 0.2055\n",
      "F1: 0.0701\n",
      "--------------------------------------------------\n",
      "GPU Memory allocated: 2.62 GB\n"
     ]
    },
    {
     "name": "stderr",
     "output_type": "stream",
     "text": [
      "Epoch 5/40: 100%|██████████| 63/63 [01:16<00:00,  1.21s/it, loss=1.6052]\n"
     ]
    },
    {
     "name": "stdout",
     "output_type": "stream",
     "text": [
      "\n",
      "Epoch 5: Train Loss = 1.6029 | Val Loss = 1.6021\n",
      "\n",
      "Validation Metrics:\n",
      "--------------------------------------------------\n",
      "Accuracy: 0.2451\n",
      "Precision: 0.2003\n",
      "Recall: 0.2451\n",
      "F1: 0.1434\n",
      "--------------------------------------------------\n",
      "GPU Memory allocated: 2.62 GB\n"
     ]
    },
    {
     "name": "stderr",
     "output_type": "stream",
     "text": [
      "Epoch 6/40: 100%|██████████| 63/63 [01:16<00:00,  1.22s/it, loss=1.6167]\n"
     ]
    },
    {
     "name": "stdout",
     "output_type": "stream",
     "text": [
      "\n",
      "Epoch 6: Train Loss = 1.6032 | Val Loss = 1.6012\n",
      "\n",
      "Validation Metrics:\n",
      "--------------------------------------------------\n",
      "Accuracy: 0.2095\n",
      "Precision: 0.0439\n",
      "Recall: 0.2095\n",
      "F1: 0.0726\n",
      "--------------------------------------------------\n",
      "GPU Memory allocated: 2.62 GB\n"
     ]
    },
    {
     "name": "stderr",
     "output_type": "stream",
     "text": [
      "Epoch 7/40: 100%|██████████| 63/63 [01:16<00:00,  1.21s/it, loss=1.5872]\n"
     ]
    },
    {
     "name": "stdout",
     "output_type": "stream",
     "text": [
      "\n",
      "Epoch 7: Train Loss = 1.6019 | Val Loss = 1.5979\n",
      "\n",
      "Validation Metrics:\n",
      "--------------------------------------------------\n",
      "Accuracy: 0.2925\n",
      "Precision: 0.3357\n",
      "Recall: 0.2925\n",
      "F1: 0.2296\n",
      "--------------------------------------------------\n",
      "GPU Memory allocated: 2.62 GB\n"
     ]
    },
    {
     "name": "stderr",
     "output_type": "stream",
     "text": [
      "Epoch 8/40: 100%|██████████| 63/63 [01:16<00:00,  1.22s/it, loss=1.5970]\n"
     ]
    },
    {
     "name": "stdout",
     "output_type": "stream",
     "text": [
      "\n",
      "Epoch 8: Train Loss = 1.5988 | Val Loss = 1.5962\n",
      "\n",
      "Validation Metrics:\n",
      "--------------------------------------------------\n",
      "Accuracy: 0.2885\n",
      "Precision: 0.4138\n",
      "Recall: 0.2885\n",
      "F1: 0.1982\n",
      "--------------------------------------------------\n",
      "GPU Memory allocated: 2.62 GB\n"
     ]
    },
    {
     "name": "stderr",
     "output_type": "stream",
     "text": [
      "Epoch 9/40: 100%|██████████| 63/63 [01:17<00:00,  1.22s/it, loss=1.6189]\n"
     ]
    },
    {
     "name": "stdout",
     "output_type": "stream",
     "text": [
      "\n",
      "Epoch 9: Train Loss = 1.5970 | Val Loss = 1.5957\n",
      "\n",
      "Validation Metrics:\n",
      "--------------------------------------------------\n",
      "Accuracy: 0.3083\n",
      "Precision: 0.4274\n",
      "Recall: 0.3083\n",
      "F1: 0.2093\n",
      "--------------------------------------------------\n",
      "GPU Memory allocated: 2.62 GB\n"
     ]
    },
    {
     "name": "stderr",
     "output_type": "stream",
     "text": [
      "Epoch 10/40: 100%|██████████| 63/63 [01:16<00:00,  1.22s/it, loss=1.6052]\n"
     ]
    },
    {
     "name": "stdout",
     "output_type": "stream",
     "text": [
      "\n",
      "Epoch 10: Train Loss = 1.5958 | Val Loss = 1.5930\n",
      "\n",
      "Validation Metrics:\n",
      "--------------------------------------------------\n",
      "Accuracy: 0.3123\n",
      "Precision: 0.2284\n",
      "Recall: 0.3123\n",
      "F1: 0.2381\n",
      "--------------------------------------------------\n",
      "GPU Memory allocated: 2.62 GB\n"
     ]
    },
    {
     "name": "stderr",
     "output_type": "stream",
     "text": [
      "Epoch 11/40: 100%|██████████| 63/63 [01:16<00:00,  1.21s/it, loss=1.5938]\n"
     ]
    },
    {
     "name": "stdout",
     "output_type": "stream",
     "text": [
      "\n",
      "Epoch 11: Train Loss = 1.5935 | Val Loss = 1.5924\n",
      "\n",
      "Validation Metrics:\n",
      "--------------------------------------------------\n",
      "Accuracy: 0.3597\n",
      "Precision: 0.3786\n",
      "Recall: 0.3597\n",
      "F1: 0.3160\n",
      "--------------------------------------------------\n",
      "GPU Memory allocated: 2.62 GB\n"
     ]
    },
    {
     "name": "stderr",
     "output_type": "stream",
     "text": [
      "Epoch 12/40:  25%|██▌       | 16/63 [00:19<00:55,  1.19s/it, loss=1.5981]"
     ]
    }
   ],
   "source": [
    "trainer.train()"
   ]
  },
  {
   "cell_type": "code",
   "execution_count": null,
   "id": "0d2b5f66-e34d-4981-8598-7463d7fd6fb6",
   "metadata": {},
   "outputs": [],
   "source": [
    "# trainer.train_epoch(1)"
   ]
  },
  {
   "cell_type": "code",
   "execution_count": null,
   "id": "9942f2b7-ed09-40fa-a64f-876973270ff8",
   "metadata": {},
   "outputs": [],
   "source": []
  }
 ],
 "metadata": {
  "kernelspec": {
   "display_name": "Python 3 (ipykernel)",
   "language": "python",
   "name": "python3"
  },
  "language_info": {
   "codemirror_mode": {
    "name": "ipython",
    "version": 3
   },
   "file_extension": ".py",
   "mimetype": "text/x-python",
   "name": "python",
   "nbconvert_exporter": "python",
   "pygments_lexer": "ipython3",
   "version": "3.10.12"
  }
 },
 "nbformat": 4,
 "nbformat_minor": 5
}
